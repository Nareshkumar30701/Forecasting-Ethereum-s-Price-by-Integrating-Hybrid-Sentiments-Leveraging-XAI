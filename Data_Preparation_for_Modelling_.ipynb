{
  "cells": [
    {
      "cell_type": "code",
      "execution_count": null,
      "id": "953d29b2-8bbc-4d30-b980-7ed7306a505c",
      "metadata": {
        "id": "953d29b2-8bbc-4d30-b980-7ed7306a505c"
      },
      "outputs": [],
      "source": [
        "import pandas as pd\n",
        "import seaborn as sns\n",
        "import matplotlib.pyplot as plt\n",
        "from statsmodels.stats.outliers_influence import variance_inflation_factor\n",
        "from statsmodels.tsa.arima.model import ARIMA\n",
        "from sklearn.preprocessing import MinMaxScaler\n",
        "from keras.models import Sequential\n",
        "from keras.layers import LSTM, Dense, Dropout\n",
        "import torch\n",
        "from transformers import BertTokenizer, BertForSequenceClassification\n",
        "from torch.utils.data import DataLoader, Dataset, RandomSampler, SequentialSampler\n",
        "from sklearn.model_selection import train_test_split"
      ]
    },
    {
      "cell_type": "code",
      "execution_count": null,
      "id": "d839d232-0d7e-4f42-984b-dafa0e652ff5",
      "metadata": {
        "id": "d839d232-0d7e-4f42-984b-dafa0e652ff5"
      },
      "outputs": [],
      "source": [
        "df = pd.read_csv('ethereum_news_features.csv')"
      ]
    },
    {
      "cell_type": "code",
      "execution_count": null,
      "id": "9b41e3e4-b515-423e-94b4-6fa86945408a",
      "metadata": {
        "id": "9b41e3e4-b515-423e-94b4-6fa86945408a",
        "outputId": "377c9fc6-e316-4fe3-f02d-1c006daaf696"
      },
      "outputs": [
        {
          "data": {
            "text/plain": [
              "Unnamed: 0                       0\n",
              "Title                            0\n",
              "Date                             0\n",
              "Source                           0\n",
              "Tokens                           0\n",
              "Open Price (USD)                 0\n",
              "High Price (USD)                 0\n",
              "Low Price (USD)                  0\n",
              "Close Price (USD)                0\n",
              "Volume                           0\n",
              "VADER Sentiment                  0\n",
              "Price Change (%)                 0\n",
              "Cleaned Tokens                   0\n",
              "General BERT Sentiment Score     0\n",
              "General BERT Confidence Score    0\n",
              "TextBlob Sentiment               0\n",
              "Absolute Price Change (%)        0\n",
              "VADER Sentiment Norm             0\n",
              "General BERT Sentiment Norm      0\n",
              "TextBlob Sentiment Norm          0\n",
              "Average Sentiment                0\n",
              "Price Change (%) Lagged          4\n",
              "Volume Norm                      0\n",
              "Sentiment and Volume             0\n",
              "Month                            0\n",
              "Daily Range (USD)                0\n",
              "Returns                          1\n",
              "Rolling Volatility               7\n",
              "dtype: int64"
            ]
          },
          "execution_count": 8,
          "metadata": {},
          "output_type": "execute_result"
        }
      ],
      "source": [
        "df.isnull().sum()"
      ]
    },
    {
      "cell_type": "code",
      "execution_count": null,
      "id": "7151ad3c-dd07-48c1-a4c5-6cac88fe88c8",
      "metadata": {
        "id": "7151ad3c-dd07-48c1-a4c5-6cac88fe88c8",
        "outputId": "03f2077e-4c56-4a8d-a56f-a5e1deef608a"
      },
      "outputs": [
        {
          "name": "stderr",
          "output_type": "stream",
          "text": [
            "C:\\Users\\Naresh Kumar S\\AppData\\Local\\Temp\\ipykernel_30984\\3032980969.py:1: FutureWarning: Series.fillna with 'method' is deprecated and will raise in a future version. Use obj.ffill() or obj.bfill() instead.\n",
            "  df['Rolling Volatility'] = df['Rolling Volatility'].fillna(method='bfill')\n"
          ]
        }
      ],
      "source": [
        "df['Rolling Volatility'] = df['Rolling Volatility'].fillna(method='bfill')"
      ]
    },
    {
      "cell_type": "code",
      "execution_count": null,
      "id": "67eef64f-ffaf-4124-9fc4-90463847468e",
      "metadata": {
        "id": "67eef64f-ffaf-4124-9fc4-90463847468e",
        "outputId": "70aa36a6-19de-4ab6-83cf-d0c243ead5e8"
      },
      "outputs": [
        {
          "name": "stderr",
          "output_type": "stream",
          "text": [
            "C:\\Users\\Naresh Kumar S\\AppData\\Local\\Temp\\ipykernel_30984\\1079503485.py:1: FutureWarning: Series.fillna with 'method' is deprecated and will raise in a future version. Use obj.ffill() or obj.bfill() instead.\n",
            "  df['Returns'] = df['Returns'].fillna(method='bfill')\n"
          ]
        }
      ],
      "source": [
        "df['Returns'] = df['Returns'].fillna(method='bfill')"
      ]
    },
    {
      "cell_type": "code",
      "execution_count": null,
      "id": "a7b62dcd-b776-460c-9748-84aad87ba972",
      "metadata": {
        "id": "a7b62dcd-b776-460c-9748-84aad87ba972",
        "outputId": "45309652-9a23-4cf4-e7b3-b688fbe815bb"
      },
      "outputs": [
        {
          "name": "stderr",
          "output_type": "stream",
          "text": [
            "C:\\Users\\Naresh Kumar S\\AppData\\Local\\Temp\\ipykernel_30984\\3106192076.py:1: FutureWarning: Series.fillna with 'method' is deprecated and will raise in a future version. Use obj.ffill() or obj.bfill() instead.\n",
            "  df['Price Change (%) Lagged'] = df['Price Change (%) Lagged'].fillna(method='ffill')\n"
          ]
        }
      ],
      "source": [
        "df['Price Change (%) Lagged'] = df['Price Change (%) Lagged'].fillna(method='ffill')"
      ]
    },
    {
      "cell_type": "code",
      "execution_count": null,
      "id": "0204c149-63ab-48c1-9b60-81e6cb9b0e44",
      "metadata": {
        "id": "0204c149-63ab-48c1-9b60-81e6cb9b0e44"
      },
      "outputs": [],
      "source": [
        "#df.to_csv('ethereum_news_cleaned.csv')"
      ]
    },
    {
      "cell_type": "code",
      "execution_count": null,
      "id": "da7a6010-dd06-488e-a273-6aff2782c61d",
      "metadata": {
        "id": "da7a6010-dd06-488e-a273-6aff2782c61d",
        "outputId": "d4bec1c6-df50-457c-f946-8b694ba7dc8e"
      },
      "outputs": [
        {
          "data": {
            "text/plain": [
              "Index(['Unnamed: 0', 'Title', 'Date', 'Source', 'Tokens', 'Open Price (USD)',\n",
              "       'High Price (USD)', 'Low Price (USD)', 'Close Price (USD)', 'Volume',\n",
              "       'VADER Sentiment', 'Price Change (%)', 'Cleaned Tokens',\n",
              "       'General BERT Sentiment Score', 'General BERT Confidence Score',\n",
              "       'TextBlob Sentiment', 'Absolute Price Change (%)',\n",
              "       'VADER Sentiment Norm', 'General BERT Sentiment Norm',\n",
              "       'TextBlob Sentiment Norm', 'Average Sentiment',\n",
              "       'Price Change (%) Lagged', 'Volume Norm', 'Sentiment and Volume',\n",
              "       'Month', 'Daily Range (USD)', 'Returns', 'Rolling Volatility'],\n",
              "      dtype='object')"
            ]
          },
          "execution_count": 22,
          "metadata": {},
          "output_type": "execute_result"
        }
      ],
      "source": [
        "df.columns\n"
      ]
    },
    {
      "cell_type": "code",
      "execution_count": null,
      "id": "204874bb-7881-493f-b609-8131a1fb3c60",
      "metadata": {
        "id": "204874bb-7881-493f-b609-8131a1fb3c60"
      },
      "outputs": [],
      "source": []
    }
  ],
  "metadata": {
    "kernelspec": {
      "display_name": "Python 3 (ipykernel)",
      "language": "python",
      "name": "python3"
    },
    "language_info": {
      "codemirror_mode": {
        "name": "ipython",
        "version": 3
      },
      "file_extension": ".py",
      "mimetype": "text/x-python",
      "name": "python",
      "nbconvert_exporter": "python",
      "pygments_lexer": "ipython3",
      "version": "3.12.4"
    },
    "colab": {
      "provenance": []
    }
  },
  "nbformat": 4,
  "nbformat_minor": 5
}